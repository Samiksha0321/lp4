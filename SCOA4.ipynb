{
  "nbformat": 4,
  "nbformat_minor": 0,
  "metadata": {
    "colab": {
      "name": "SCOA4.ipynb",
      "provenance": []
    },
    "kernelspec": {
      "name": "python3",
      "display_name": "Python 3"
    },
    "language_info": {
      "name": "python"
    }
  },
  "cells": [
    {
      "cell_type": "code",
      "execution_count": 1,
      "metadata": {
        "id": "7zJItt2h-sBE"
      },
      "outputs": [],
      "source": [
        "from abc import ABC, abstractmethod"
      ]
    },
    {
      "cell_type": "code",
      "source": [
        ""
      ],
      "metadata": {
        "id": "Rjeys3leBwIW"
      },
      "execution_count": null,
      "outputs": []
    },
    {
      "cell_type": "code",
      "source": [
        "class Neuron(ABC):\n",
        "  def __init__(self, weights):\n",
        "    self.weights = weights\n",
        "\n",
        "  def linearFunction(self, input_vector):\n",
        "    val = self.weights[0]\n",
        "    for i in range(2):\n",
        "      val += input_vector[i] * self.weights[i+1]\n",
        "    return val\n",
        "\n",
        "  @abstractmethod\n",
        "  def thresholdFunction(self, input_value):\n",
        "    pass\n",
        "\n",
        "  def process(self, input_vector):\n",
        "    return self.thresholdFunction(self.linearFunction(input_vector))"
      ],
      "metadata": {
        "id": "ZpQ6wpIorx6M"
      },
      "execution_count": 2,
      "outputs": []
    },
    {
      "cell_type": "code",
      "source": [
        "class ANDGate(Neuron):\n",
        "  def __init__(self):\n",
        "    super().__init__([-3, 2, 2])\n",
        "\n",
        "  def thresholdFunction(self, value):\n",
        "    return value > 0"
      ],
      "metadata": {
        "id": "ruSdqAJbB3O5"
      },
      "execution_count": 3,
      "outputs": []
    },
    {
      "cell_type": "code",
      "source": [
        "class ORGate(Neuron):\n",
        "  def __init__(self):\n",
        "    super().__init__([0, 1, 1])\n",
        "\n",
        "  def thresholdFunction(self, value):\n",
        "    return value >= 1"
      ],
      "metadata": {
        "id": "XpMdetiNB6Gp"
      },
      "execution_count": 4,
      "outputs": []
    },
    {
      "cell_type": "code",
      "source": [
        "class XORGate(Neuron):\n",
        "  def __init__(self):\n",
        "    super().__init__([0, -1, 1])\n",
        "\n",
        "  def thresholdFunction(self, value):\n",
        "    return value != 0"
      ],
      "metadata": {
        "id": "d9RH46q_B9zI"
      },
      "execution_count": 5,
      "outputs": []
    },
    {
      "cell_type": "code",
      "source": [
        "class NORGate(Neuron):\n",
        "  def __init__(self):\n",
        "    super().__init__([0, 1, 1])\n",
        "\n",
        "  def thresholdFunction(self, value):\n",
        "    return value == 0"
      ],
      "metadata": {
        "id": "kJytyg8dCAKp"
      },
      "execution_count": 6,
      "outputs": []
    },
    {
      "cell_type": "code",
      "source": [
        "class NANDGate(Neuron):\n",
        "  def __init__(self):\n",
        "    super().__init__([-3, 2, 2])\n",
        "\n",
        "  def thresholdFunction(self, value):\n",
        "    return value < 0"
      ],
      "metadata": {
        "id": "Fn-pY6MBCENH"
      },
      "execution_count": 7,
      "outputs": []
    },
    {
      "cell_type": "code",
      "source": [
        "gates = [\n",
        "         ANDGate(),\n",
        "         ORGate(),\n",
        "         XORGate(),\n",
        "         NORGate(),\n",
        "         NANDGate()\n",
        "]"
      ],
      "metadata": {
        "id": "AdexHH2iCG0V"
      },
      "execution_count": 8,
      "outputs": []
    },
    {
      "cell_type": "code",
      "source": [
        "inputs = [\n",
        "          [False, False],\n",
        "          [False, True],\n",
        "          [True, False],\n",
        "          [True, True]\n",
        "]"
      ],
      "metadata": {
        "id": "FY_5iXH2COC0"
      },
      "execution_count": 9,
      "outputs": []
    },
    {
      "cell_type": "code",
      "source": [
        "for gate in gates:\n",
        "  print(type(gate).__name__, \"outputs:\")\n",
        "  for input in inputs:\n",
        "    print(\"\\t\", input, \"->\", gate.process(input))\n",
        "  print()"
      ],
      "metadata": {
        "colab": {
          "base_uri": "https://localhost:8080/"
        },
        "id": "8xDFtKfmCSga",
        "outputId": "744df178-d31e-4136-b23a-ce9413b67f15"
      },
      "execution_count": 10,
      "outputs": [
        {
          "output_type": "stream",
          "name": "stdout",
          "text": [
            "ANDGate outputs:\n",
            "\t [False, False] -> False\n",
            "\t [False, True] -> False\n",
            "\t [True, False] -> False\n",
            "\t [True, True] -> True\n",
            "\n",
            "ORGate outputs:\n",
            "\t [False, False] -> False\n",
            "\t [False, True] -> True\n",
            "\t [True, False] -> True\n",
            "\t [True, True] -> True\n",
            "\n",
            "XORGate outputs:\n",
            "\t [False, False] -> False\n",
            "\t [False, True] -> True\n",
            "\t [True, False] -> True\n",
            "\t [True, True] -> False\n",
            "\n",
            "NORGate outputs:\n",
            "\t [False, False] -> True\n",
            "\t [False, True] -> False\n",
            "\t [True, False] -> False\n",
            "\t [True, True] -> False\n",
            "\n",
            "NANDGate outputs:\n",
            "\t [False, False] -> True\n",
            "\t [False, True] -> True\n",
            "\t [True, False] -> True\n",
            "\t [True, True] -> False\n",
            "\n"
          ]
        }
      ]
    },
    {
      "cell_type": "code",
      "source": [
        ""
      ],
      "metadata": {
        "id": "IdLT58EKCXq_"
      },
      "execution_count": null,
      "outputs": []
    }
  ]
}