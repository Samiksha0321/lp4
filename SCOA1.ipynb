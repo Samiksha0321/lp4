{
  "nbformat": 4,
  "nbformat_minor": 0,
  "metadata": {
    "colab": {
      "name": "SCOA1.ipynb",
      "provenance": []
    },
    "kernelspec": {
      "name": "python3",
      "display_name": "Python 3"
    },
    "language_info": {
      "name": "python"
    }
  },
  "cells": [
    {
      "cell_type": "code",
      "execution_count": null,
      "metadata": {
        "id": "bGXWVAk6-u3k"
      },
      "outputs": [],
      "source": [
        ""
      ]
    },
    {
      "cell_type": "code",
      "source": [
        "import random\n",
        "import string"
      ],
      "metadata": {
        "id": "OsZhqfFcgGCh"
      },
      "execution_count": 1,
      "outputs": []
    },
    {
      "cell_type": "code",
      "source": [
        "DEC = 2"
      ],
      "metadata": {
        "id": "f3DhXyrp-0pT"
      },
      "execution_count": 2,
      "outputs": []
    },
    {
      "cell_type": "code",
      "source": [
        ""
      ],
      "metadata": {
        "id": "vnoyQWEe-3Qp"
      },
      "execution_count": null,
      "outputs": []
    },
    {
      "cell_type": "code",
      "source": [
        "class FuzzySet:\n",
        "  def __init__(self):\n",
        "    self.set = dict()\n",
        "\n",
        "  def add(self, key, value):\n",
        "    self.set[key] = round(value, DEC)\n",
        "\n",
        "  def get(self, key):\n",
        "    if key in self.set.keys():\n",
        "      return self.set[key]\n",
        "    return 0\n",
        "\n",
        "  def elements(self):\n",
        "    return self.set.keys()\n",
        "\n",
        "  def __str__(self):\n",
        "    return str(self.set)\n",
        "  \n",
        "  def __repr__(self):\n",
        "    return str(self.set)\n",
        "\n",
        "  @classmethod\n",
        "  def union(cls, A, B):\n",
        "    C = FuzzySet()\n",
        "    for elem in A.elements():\n",
        "      C.add(elem, A.get(elem))\n",
        "    for elem in B.elements():\n",
        "      C.add(elem, max(B.get(elem), A.get(elem)))\n",
        "    return C\n",
        "  \n",
        "  @classmethod\n",
        "  def intersection(cls, A, B):\n",
        "    C = FuzzySet()\n",
        "    for elem in B.elements():\n",
        "      if elem in A.elements():\n",
        "        C.add(elem, min(B.get(elem), A.get(elem)))\n",
        "    return C\n",
        "\n",
        "  @classmethod\n",
        "  def difference(cls, A, B):\n",
        "    C = FuzzySet()\n",
        "    for elem in A.elements():\n",
        "      C.add(elem, min(A.get(elem), 1-B.get(elem)))\n",
        "    return C\n",
        "  \n",
        "  @classmethod\n",
        "  def complement(cls, A):\n",
        "    X = FuzzySet()\n",
        "    for elem in A.elements():\n",
        "      X.add(elem, 1 - A.get(elem))\n",
        "    return X"
      ],
      "metadata": {
        "id": "wJSLyrn0IwLo"
      },
      "execution_count": 3,
      "outputs": []
    },
    {
      "cell_type": "code",
      "source": [
        ""
      ],
      "metadata": {
        "id": "YYp-veih-7IE"
      },
      "execution_count": null,
      "outputs": []
    },
    {
      "cell_type": "code",
      "source": [
        "class FuzzyRelation:\n",
        "  def __init__(self, A = None, B = None):\n",
        "    self.r_set = dict()\n",
        "    if A is None or B is None:\n",
        "      return\n",
        "    for a in A.elements():\n",
        "      self.r_set[a] = dict()\n",
        "      for b in B.elements():\n",
        "        self.r_set[a][b] = min(A.get(a), B.get(b))\n",
        "\n",
        "  def row_elements(self):\n",
        "    return self.r_set.keys()\n",
        "  \n",
        "  def col_elements(self):\n",
        "    for k in self.row_elements():\n",
        "      return self.r_set[k].keys()\n",
        "    return []\n",
        "\n",
        "  def get(self, r, c):\n",
        "    if r not in self.row_elements():\n",
        "      return 0\n",
        "    if c not in self.col_elements():\n",
        "      return 0\n",
        "    return self.r_set[r][c]\n",
        "\n",
        "  def add(self, r, c, val):\n",
        "    if r not in self.row_elements():\n",
        "      self.r_set[r] = dict()\n",
        "    self.r_set[r][c] = round(val, DEC)\n",
        "  \n",
        "  def __str__(self):\n",
        "    space = 5\n",
        "    ret = \"\".center(space)\n",
        "    for c in self.col_elements():\n",
        "      ret += c.center(space)\n",
        "    ret += \"\\n\"\n",
        "    for r in self.row_elements():\n",
        "      ret += r.center(space)\n",
        "      for c in self.col_elements():\n",
        "        ret += str(self.get(r, c)).center(space)\n",
        "      ret += \"\\n\"\n",
        "    return ret\n",
        "\n",
        "  def __repr__(self):\n",
        "    space = 5\n",
        "    ret = \"\".center(space)\n",
        "    for c in self.col_elements():\n",
        "      ret += c.center(space)\n",
        "    ret += \"\\n\"\n",
        "    for r in self.row_elements():\n",
        "      ret += r.center(space)\n",
        "      for c in self.col_elements():\n",
        "        ret += str(self.get(r, c)).center(space)\n",
        "      ret += \"\\n\"\n",
        "    return ret\n",
        "  \n",
        "  @classmethod\n",
        "  def max_min_composition(cls, R1, R2):\n",
        "    R3 = FuzzyRelation()\n",
        "    for r in R1.row_elements():\n",
        "      for c in R2.col_elements():\n",
        "        val = 0\n",
        "        for k in R1.col_elements():\n",
        "          val = max(val, min(R1.get(r, k), R2.get(k, c)))\n",
        "        R3.add(r, c, val)\n",
        "    return R3"
      ],
      "metadata": {
        "id": "I-hLEHm8MHtW"
      },
      "execution_count": 4,
      "outputs": []
    },
    {
      "cell_type": "code",
      "source": [
        ""
      ],
      "metadata": {
        "id": "6pANuGQO--Rc"
      },
      "execution_count": null,
      "outputs": []
    },
    {
      "cell_type": "code",
      "source": [
        "def init_random(Universe):\n",
        "  S = FuzzySet()\n",
        "  for c in Universe:\n",
        "    if random.choice([0, 1]):\n",
        "      S.add(c, round(random.uniform(0.1, 1), DEC))\n",
        "  return S"
      ],
      "metadata": {
        "id": "lpnbQqChmQdX"
      },
      "execution_count": 5,
      "outputs": []
    },
    {
      "cell_type": "code",
      "source": [
        "S1 = init_random(string.ascii_uppercase)\n",
        "S2 = init_random(string.ascii_uppercase)\n",
        "S3 = init_random(string.ascii_uppercase)"
      ],
      "metadata": {
        "id": "gMiFebVT_GdX"
      },
      "execution_count": 6,
      "outputs": []
    },
    {
      "cell_type": "code",
      "source": [
        "print(\"S1: \", S1)\n",
        "print(\"S2: \", S2)\n",
        "print(\"S3: \", S3)"
      ],
      "metadata": {
        "colab": {
          "base_uri": "https://localhost:8080/"
        },
        "id": "Xm4wmMJ8_JGk",
        "outputId": "7568a57f-4469-48e7-9c59-0fab553f67e7"
      },
      "execution_count": 7,
      "outputs": [
        {
          "output_type": "stream",
          "name": "stdout",
          "text": [
            "S1:  {'B': 0.14, 'G': 0.97, 'I': 0.76, 'J': 0.1, 'T': 0.16, 'W': 0.53}\n",
            "S2:  {'C': 0.85, 'G': 0.27, 'H': 0.18, 'I': 0.13, 'J': 0.72, 'K': 0.49, 'N': 0.26, 'P': 0.62, 'Q': 0.85, 'R': 0.8, 'U': 0.16, 'V': 0.99, 'X': 0.75, 'Y': 0.76}\n",
            "S3:  {'E': 0.41, 'G': 0.25, 'I': 0.48, 'J': 0.66, 'O': 0.72, 'P': 0.31, 'R': 0.75, 'S': 0.18, 'U': 0.47, 'V': 0.77}\n"
          ]
        }
      ]
    },
    {
      "cell_type": "code",
      "source": [
        "print(\"Union: \", FuzzySet.union(S1, S2))\n",
        "print(\"Intersection: \", FuzzySet.intersection(S1, S2))\n",
        "print(\"Difference: \", FuzzySet.difference(S1, S2))\n",
        "print(\"Complement: \", FuzzySet.complement(S1))"
      ],
      "metadata": {
        "colab": {
          "base_uri": "https://localhost:8080/"
        },
        "id": "P8-U8dBU_NAm",
        "outputId": "37463042-3aae-4ace-b6a8-98c4fde8da3e"
      },
      "execution_count": 8,
      "outputs": [
        {
          "output_type": "stream",
          "name": "stdout",
          "text": [
            "Union:  {'B': 0.14, 'G': 0.97, 'I': 0.76, 'J': 0.72, 'T': 0.16, 'W': 0.53, 'C': 0.85, 'H': 0.18, 'K': 0.49, 'N': 0.26, 'P': 0.62, 'Q': 0.85, 'R': 0.8, 'U': 0.16, 'V': 0.99, 'X': 0.75, 'Y': 0.76}\n",
            "Intersection:  {'G': 0.27, 'I': 0.13, 'J': 0.1}\n",
            "Difference:  {'B': 0.14, 'G': 0.73, 'I': 0.76, 'J': 0.1, 'T': 0.16, 'W': 0.53}\n",
            "Complement:  {'B': 0.86, 'G': 0.03, 'I': 0.24, 'J': 0.9, 'T': 0.84, 'W': 0.47}\n"
          ]
        }
      ]
    },
    {
      "cell_type": "code",
      "source": [
        "A = init_random(string.ascii_uppercase)\n",
        "B = init_random(string.digits)\n",
        "C = init_random(string.ascii_lowercase)"
      ],
      "metadata": {
        "id": "HSdCbi2T_Qoh"
      },
      "execution_count": 9,
      "outputs": []
    },
    {
      "cell_type": "code",
      "source": [
        "print(\"A: \", A)\n",
        "print(\"B: \", B)\n",
        "print(\"C: \", C)"
      ],
      "metadata": {
        "colab": {
          "base_uri": "https://localhost:8080/"
        },
        "id": "S7MjqhxN_fNh",
        "outputId": "c610ae3c-9f13-4656-fcf2-e6b6b6c7d642"
      },
      "execution_count": 10,
      "outputs": [
        {
          "output_type": "stream",
          "name": "stdout",
          "text": [
            "A:  {'A': 0.86, 'E': 0.51, 'G': 0.71, 'I': 0.95, 'J': 0.85, 'K': 0.22, 'P': 0.84, 'T': 0.91, 'U': 0.89, 'W': 0.87, 'X': 0.4}\n",
            "B:  {'1': 0.57, '2': 0.32, '4': 0.79, '5': 0.96, '7': 0.77, '8': 0.7}\n",
            "C:  {'c': 0.17, 'f': 0.15, 'g': 0.85, 'i': 0.96, 'j': 0.93, 'm': 0.98, 'o': 0.97, 'p': 0.92, 'q': 0.27, 'r': 0.11, 't': 0.36, 'x': 0.37, 'z': 0.93}\n"
          ]
        }
      ]
    },
    {
      "cell_type": "code",
      "source": [
        "R1 = FuzzyRelation(A, B)\n",
        "R2 = FuzzyRelation(B, C)"
      ],
      "metadata": {
        "id": "5PlUXEZE_hz6"
      },
      "execution_count": 11,
      "outputs": []
    },
    {
      "cell_type": "code",
      "source": [
        "print(\"R1\")\n",
        "print(R1)\n",
        "print(\"R2\")\n",
        "print(R2)"
      ],
      "metadata": {
        "colab": {
          "base_uri": "https://localhost:8080/"
        },
        "id": "jKvM-Szh_kdo",
        "outputId": "a47bed69-760e-4199-db72-b5d2506fd0fb"
      },
      "execution_count": 12,
      "outputs": [
        {
          "output_type": "stream",
          "name": "stdout",
          "text": [
            "R1\n",
            "       1    2    4    5    7    8  \n",
            "  A   0.57 0.32 0.79 0.86 0.77 0.7 \n",
            "  E   0.51 0.32 0.51 0.51 0.51 0.51\n",
            "  G   0.57 0.32 0.71 0.71 0.71 0.7 \n",
            "  I   0.57 0.32 0.79 0.95 0.77 0.7 \n",
            "  J   0.57 0.32 0.79 0.85 0.77 0.7 \n",
            "  K   0.22 0.22 0.22 0.22 0.22 0.22\n",
            "  P   0.57 0.32 0.79 0.84 0.77 0.7 \n",
            "  T   0.57 0.32 0.79 0.91 0.77 0.7 \n",
            "  U   0.57 0.32 0.79 0.89 0.77 0.7 \n",
            "  W   0.57 0.32 0.79 0.87 0.77 0.7 \n",
            "  X   0.4  0.32 0.4  0.4  0.4  0.4 \n",
            "\n",
            "R2\n",
            "       c    f    g    i    j    m    o    p    q    r    t    x    z  \n",
            "  1   0.17 0.15 0.57 0.57 0.57 0.57 0.57 0.57 0.27 0.11 0.36 0.37 0.57\n",
            "  2   0.17 0.15 0.32 0.32 0.32 0.32 0.32 0.32 0.27 0.11 0.32 0.32 0.32\n",
            "  4   0.17 0.15 0.79 0.79 0.79 0.79 0.79 0.79 0.27 0.11 0.36 0.37 0.79\n",
            "  5   0.17 0.15 0.85 0.96 0.93 0.96 0.96 0.92 0.27 0.11 0.36 0.37 0.93\n",
            "  7   0.17 0.15 0.77 0.77 0.77 0.77 0.77 0.77 0.27 0.11 0.36 0.37 0.77\n",
            "  8   0.17 0.15 0.7  0.7  0.7  0.7  0.7  0.7  0.27 0.11 0.36 0.37 0.7 \n",
            "\n"
          ]
        }
      ]
    },
    {
      "cell_type": "code",
      "source": [
        "print(FuzzyRelation.max_min_composition(R1, R2))"
      ],
      "metadata": {
        "colab": {
          "base_uri": "https://localhost:8080/"
        },
        "id": "_fuAOTRt_m93",
        "outputId": "daa226d0-5e95-40a8-cf29-04e9c25f53eb"
      },
      "execution_count": 13,
      "outputs": [
        {
          "output_type": "stream",
          "name": "stdout",
          "text": [
            "       c    f    g    i    j    m    o    p    q    r    t    x    z  \n",
            "  A   0.17 0.15 0.85 0.86 0.86 0.86 0.86 0.86 0.27 0.11 0.36 0.37 0.86\n",
            "  E   0.17 0.15 0.51 0.51 0.51 0.51 0.51 0.51 0.27 0.11 0.36 0.37 0.51\n",
            "  G   0.17 0.15 0.71 0.71 0.71 0.71 0.71 0.71 0.27 0.11 0.36 0.37 0.71\n",
            "  I   0.17 0.15 0.85 0.95 0.93 0.95 0.95 0.92 0.27 0.11 0.36 0.37 0.93\n",
            "  J   0.17 0.15 0.85 0.85 0.85 0.85 0.85 0.85 0.27 0.11 0.36 0.37 0.85\n",
            "  K   0.17 0.15 0.22 0.22 0.22 0.22 0.22 0.22 0.22 0.11 0.22 0.22 0.22\n",
            "  P   0.17 0.15 0.84 0.84 0.84 0.84 0.84 0.84 0.27 0.11 0.36 0.37 0.84\n",
            "  T   0.17 0.15 0.85 0.91 0.91 0.91 0.91 0.91 0.27 0.11 0.36 0.37 0.91\n",
            "  U   0.17 0.15 0.85 0.89 0.89 0.89 0.89 0.89 0.27 0.11 0.36 0.37 0.89\n",
            "  W   0.17 0.15 0.85 0.87 0.87 0.87 0.87 0.87 0.27 0.11 0.36 0.37 0.87\n",
            "  X   0.17 0.15 0.4  0.4  0.4  0.4  0.4  0.4  0.27 0.11 0.36 0.37 0.4 \n",
            "\n"
          ]
        }
      ]
    },
    {
      "cell_type": "code",
      "source": [
        ""
      ],
      "metadata": {
        "id": "-SRKUvli_rlF"
      },
      "execution_count": null,
      "outputs": []
    }
  ]
}