{
  "nbformat": 4,
  "nbformat_minor": 0,
  "metadata": {
    "colab": {
      "name": "SCOA5.ipynb",
      "provenance": []
    },
    "kernelspec": {
      "name": "python3",
      "display_name": "Python 3"
    },
    "language_info": {
      "name": "python"
    }
  },
  "cells": [
    {
      "cell_type": "code",
      "execution_count": 1,
      "metadata": {
        "id": "ZEPxsJ8H-qnf"
      },
      "outputs": [],
      "source": [
        "import numpy as np"
      ]
    },
    {
      "cell_type": "code",
      "source": [
        ""
      ],
      "metadata": {
        "id": "1nzHkvXhCilA"
      },
      "execution_count": null,
      "outputs": []
    },
    {
      "cell_type": "code",
      "source": [
        "class Perceptron:\n",
        "\n",
        "  def __init__(self, input_size):\n",
        "    self.input_size = input_size\n",
        "    self.w = [np.random.rand() for _ in range(input_size)]\n",
        "    self.b = np.random.rand()\n",
        "  def __activation(self, y):\n",
        "    return int(y >= 0)\n",
        "\n",
        "  def __forward_prop(self, X):\n",
        "    z = self.b\n",
        "    for i in range(self.input_size):\n",
        "      z += self.w[i] * X[i]\n",
        "    return z\n",
        "\n",
        "  def __backward_prop(self, X, y, y_hat, learning_rate):\n",
        "    delta_w = learning_rate * (y - y_hat)\n",
        "    for i in range(self.input_size):\n",
        "      delta_wi = delta_w*X[i]\n",
        "      self.w[i] += delta_wi\n",
        "    delta_b = delta_w\n",
        "    self.b += delta_b\n",
        "\n",
        "  def __train(self, X, y, learning_rate):\n",
        "    z = self.__forward_prop(X)\n",
        "    y_hat = self.__activation(z)\n",
        "    self.__backward_prop(X, y, y_hat, learning_rate)\n",
        "    \n",
        "\n",
        "  def fit(self, X, y, learning_rate, epochs = 5):\n",
        "    for _ in range(epochs):\n",
        "      for i in range(len(X)):\n",
        "        self.__train(X[i], y[i], learning_rate)\n",
        "\n",
        "  def predict(self, X):\n",
        "    z = self.__forward_prop(X)\n",
        "    return self.__activation(z)"
      ],
      "metadata": {
        "id": "R8vThClb5xg4"
      },
      "execution_count": 2,
      "outputs": []
    },
    {
      "cell_type": "code",
      "source": [
        "X = [\n",
        "     [0, 0],\n",
        "     [0, 1],\n",
        "     [1, 0],\n",
        "     [1, 1]\n",
        "]"
      ],
      "metadata": {
        "id": "krf5mgl3Ck1E"
      },
      "execution_count": 3,
      "outputs": []
    },
    {
      "cell_type": "code",
      "source": [
        "bool_functions = [\n",
        "      Perceptron(2), # OR\n",
        "      Perceptron(2), # AND\n",
        "      Perceptron(2), # NOR\n",
        "      Perceptron(2), # NAND\n",
        "]"
      ],
      "metadata": {
        "id": "pNfJu7mpCnQ0"
      },
      "execution_count": 4,
      "outputs": []
    },
    {
      "cell_type": "code",
      "source": [
        "y = [\n",
        "      [0, 1, 1, 1],\n",
        "      [0, 0, 0, 1],\n",
        "      [1, 0, 0, 0],\n",
        "      [1, 1, 1, 0]\n",
        "]"
      ],
      "metadata": {
        "id": "zTYT33USCphK"
      },
      "execution_count": 5,
      "outputs": []
    },
    {
      "cell_type": "code",
      "source": [
        "for i in range(len(bool_functions)):\n",
        "  bool_function = bool_functions[i]\n",
        "  input = X[:]\n",
        "  output = y[i][:]\n",
        "  bool_function.fit(input, output, 0.01, epochs=100)\n",
        "  for inputi in input:\n",
        "    print(inputi, \"->\", bool_function.predict(inputi))\n",
        "  print()"
      ],
      "metadata": {
        "colab": {
          "base_uri": "https://localhost:8080/"
        },
        "id": "3f-glmSoCrwP",
        "outputId": "5424b3d9-a901-406a-f0a9-b2f420ee2f60"
      },
      "execution_count": 6,
      "outputs": [
        {
          "output_type": "stream",
          "name": "stdout",
          "text": [
            "[0, 0] -> 0\n",
            "[0, 1] -> 1\n",
            "[1, 0] -> 1\n",
            "[1, 1] -> 1\n",
            "\n",
            "[0, 0] -> 0\n",
            "[0, 1] -> 0\n",
            "[1, 0] -> 0\n",
            "[1, 1] -> 1\n",
            "\n",
            "[0, 0] -> 1\n",
            "[0, 1] -> 0\n",
            "[1, 0] -> 0\n",
            "[1, 1] -> 0\n",
            "\n",
            "[0, 0] -> 1\n",
            "[0, 1] -> 1\n",
            "[1, 0] -> 1\n",
            "[1, 1] -> 0\n",
            "\n"
          ]
        }
      ]
    },
    {
      "cell_type": "code",
      "source": [
        ""
      ],
      "metadata": {
        "id": "874uM1rbCuY2"
      },
      "execution_count": null,
      "outputs": []
    }
  ]
}