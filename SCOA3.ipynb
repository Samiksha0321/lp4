{
  "nbformat": 4,
  "nbformat_minor": 0,
  "metadata": {
    "colab": {
      "name": "SCOA3.ipynb",
      "provenance": []
    },
    "kernelspec": {
      "name": "python3",
      "display_name": "Python 3"
    },
    "language_info": {
      "name": "python"
    }
  },
  "cells": [
    {
      "cell_type": "code",
      "execution_count": 1,
      "metadata": {
        "id": "I19oizP2-sVb"
      },
      "outputs": [],
      "source": [
        "import numpy as np"
      ]
    },
    {
      "cell_type": "code",
      "source": [
        "np.random.seed(42)"
      ],
      "metadata": {
        "id": "NyDoTLOnAqp0"
      },
      "execution_count": 2,
      "outputs": []
    },
    {
      "cell_type": "code",
      "source": [
        ""
      ],
      "metadata": {
        "id": "rtCip2oYAvd9"
      },
      "execution_count": null,
      "outputs": []
    },
    {
      "cell_type": "code",
      "source": [
        "class Particle:\n",
        "  def __init__(self):\n",
        "    self.fitness = round(np.random.rand(), 2)\n",
        "    self.bfitness = round(np.random.rand(), 2)\n",
        "    self.position = round(np.random.rand(), 2)\n",
        "    self.bposition = round(np.random.rand(), 2)\n",
        "    self.velocity = round(np.random.rand(), 2)\n",
        "\n",
        "  def getFitness(self):\n",
        "    return round(self.position*self.position, 2)\n",
        "\n",
        "  def updateVelocity(self, overall_b_position):\n",
        "    r1 = np.random.rand()\n",
        "    r2 = np.random.rand()\n",
        "    self.velocity = w*self.velocity + c1*r1*(self.bposition - self.position) + c2*r2*(overall_b_position - self.position)\n",
        "\n",
        "  def updatePosition(self):\n",
        "    self.position += self.velocity\n",
        "    self.position = round(max(MIN, min(self.position, MAX)), 2)\n",
        "  \n",
        "  def update(self, overall_b_position):\n",
        "    self.updateVelocity(overall_b_position)\n",
        "    self.updatePosition()\n",
        "    if self.getFitness() > self.bfitness:\n",
        "      self.bposition = self.position\n",
        "      self.bfitness = self.getFitness()\n",
        "    return self.bfitness\n",
        "\n",
        "  def getBPosition(self):\n",
        "    return self.bposition\n",
        "  \n",
        "  def getBFitness(self):\n",
        "    return self.bfitness\n",
        "\n",
        "  def printString(self):\n",
        "    ret = f\"Fitness: {self.getFitness()}, bestFitness: {self.bfitness}\"\n",
        "    return ret;"
      ],
      "metadata": {
        "id": "nmzN8EUrKwAI"
      },
      "execution_count": 3,
      "outputs": []
    },
    {
      "cell_type": "code",
      "source": [
        "MIN = 0\n",
        "MAX = 20"
      ],
      "metadata": {
        "id": "s41-5o6UAx6D"
      },
      "execution_count": 4,
      "outputs": []
    },
    {
      "cell_type": "code",
      "source": [
        "w1 = 0.9\n",
        "w2 = 0.4\n",
        "c1 = 2\n",
        "c2 = 2"
      ],
      "metadata": {
        "id": "rB_RL7lEA0l-"
      },
      "execution_count": 5,
      "outputs": []
    },
    {
      "cell_type": "code",
      "source": [
        "POPULATION_SIZE = 10\n",
        "NUM_ITERS = 10"
      ],
      "metadata": {
        "id": "qSvY2YEsA3by"
      },
      "execution_count": 6,
      "outputs": []
    },
    {
      "cell_type": "code",
      "source": [
        "w = (w2-w1)/(NUM_ITERS-1)"
      ],
      "metadata": {
        "id": "u7Ezpu9bA5_1"
      },
      "execution_count": 7,
      "outputs": []
    },
    {
      "cell_type": "code",
      "source": [
        "swarm = [Particle() for _ in range(POPULATION_SIZE)]\n",
        "best_particle = swarm[0]"
      ],
      "metadata": {
        "id": "gtZDtap7A8CP"
      },
      "execution_count": 8,
      "outputs": []
    },
    {
      "cell_type": "code",
      "source": [
        ""
      ],
      "metadata": {
        "id": "NJ1fIjZfA_NQ"
      },
      "execution_count": null,
      "outputs": []
    },
    {
      "cell_type": "code",
      "source": [
        "for iter in range(NUM_ITERS):\n",
        "  print(\"Iteration \", iter)\n",
        "  for i in range(len(swarm)):\n",
        "    fitness = swarm[i].update(best_particle.getBPosition())\n",
        "    print(\"\\tParticle \", i, \": \", swarm[i].printString())\n",
        "    if fitness > best_particle.getBFitness():\n",
        "      best_particle = swarm[i]\n",
        "  print(\"Best Particle: \", best_particle.printString())\n",
        "  print()"
      ],
      "metadata": {
        "id": "ndx9cYq4O-HM",
        "colab": {
          "base_uri": "https://localhost:8080/"
        },
        "outputId": "31a41687-dfd3-4a18-e740-67dc7fb03cef"
      },
      "execution_count": 9,
      "outputs": [
        {
          "output_type": "stream",
          "name": "stdout",
          "text": [
            "Iteration  0\n",
            "\tParticle  0 :  Fitness: 0.07, bestFitness: 0.95\n",
            "\tParticle  1 :  Fitness: 0, bestFitness: 0.06\n",
            "\tParticle  2 :  Fitness: 0, bestFitness: 0.97\n",
            "\tParticle  3 :  Fitness: 0.14, bestFitness: 0.3\n",
            "\tParticle  4 :  Fitness: 0.05, bestFitness: 0.14\n",
            "\tParticle  5 :  Fitness: 0.17, bestFitness: 0.2\n",
            "\tParticle  6 :  Fitness: 2.46, bestFitness: 2.46\n",
            "\tParticle  7 :  Fitness: 4.0, bestFitness: 4.0\n",
            "\tParticle  8 :  Fitness: 11.7, bestFitness: 11.7\n",
            "\tParticle  9 :  Fitness: 38.94, bestFitness: 38.94\n",
            "Best Particle:  Fitness: 38.94, bestFitness: 38.94\n",
            "\n",
            "Iteration  1\n",
            "\tParticle  0 :  Fitness: 10.11, bestFitness: 10.11\n",
            "\tParticle  1 :  Fitness: 104.86, bestFitness: 104.86\n",
            "\tParticle  2 :  Fitness: 233.78, bestFitness: 233.78\n",
            "\tParticle  3 :  Fitness: 7.18, bestFitness: 7.18\n",
            "\tParticle  4 :  Fitness: 14.59, bestFitness: 14.59\n",
            "\tParticle  5 :  Fitness: 371.72, bestFitness: 371.72\n",
            "\tParticle  6 :  Fitness: 13.99, bestFitness: 13.99\n",
            "\tParticle  7 :  Fitness: 172.4, bestFitness: 172.4\n",
            "\tParticle  8 :  Fitness: 400, bestFitness: 400\n",
            "\tParticle  9 :  Fitness: 357.97, bestFitness: 357.97\n",
            "Best Particle:  Fitness: 400, bestFitness: 400\n",
            "\n",
            "Iteration  2\n",
            "\tParticle  0 :  Fitness: 400, bestFitness: 400\n",
            "\tParticle  1 :  Fitness: 400, bestFitness: 400\n",
            "\tParticle  2 :  Fitness: 364.43, bestFitness: 364.43\n",
            "\tParticle  3 :  Fitness: 301.37, bestFitness: 301.37\n",
            "\tParticle  4 :  Fitness: 50.55, bestFitness: 50.55\n",
            "\tParticle  5 :  Fitness: 366.72, bestFitness: 371.72\n",
            "\tParticle  6 :  Fitness: 400, bestFitness: 400\n",
            "\tParticle  7 :  Fitness: 254.08, bestFitness: 254.08\n",
            "\tParticle  8 :  Fitness: 356.83, bestFitness: 400\n",
            "\tParticle  9 :  Fitness: 337.82, bestFitness: 357.97\n",
            "Best Particle:  Fitness: 356.83, bestFitness: 400\n",
            "\n",
            "Iteration  3\n",
            "\tParticle  0 :  Fitness: 348.94, bestFitness: 400\n",
            "\tParticle  1 :  Fitness: 377.14, bestFitness: 400\n",
            "\tParticle  2 :  Fitness: 400, bestFitness: 400\n",
            "\tParticle  3 :  Fitness: 307.3, bestFitness: 307.3\n",
            "\tParticle  4 :  Fitness: 400, bestFitness: 400\n",
            "\tParticle  5 :  Fitness: 400, bestFitness: 400\n",
            "\tParticle  6 :  Fitness: 364.43, bestFitness: 400\n",
            "\tParticle  7 :  Fitness: 370.56, bestFitness: 370.56\n",
            "\tParticle  8 :  Fitness: 400, bestFitness: 400\n",
            "\tParticle  9 :  Fitness: 400, bestFitness: 400\n",
            "Best Particle:  Fitness: 400, bestFitness: 400\n",
            "\n",
            "Iteration  4\n",
            "\tParticle  0 :  Fitness: 400, bestFitness: 400\n",
            "\tParticle  1 :  Fitness: 399.2, bestFitness: 400\n",
            "\tParticle  2 :  Fitness: 396.81, bestFitness: 400\n",
            "\tParticle  3 :  Fitness: 400, bestFitness: 400\n",
            "\tParticle  4 :  Fitness: 370.18, bestFitness: 400\n",
            "\tParticle  5 :  Fitness: 396.01, bestFitness: 400\n",
            "\tParticle  6 :  Fitness: 400, bestFitness: 400\n",
            "\tParticle  7 :  Fitness: 365.57, bestFitness: 370.56\n",
            "\tParticle  8 :  Fitness: 391.64, bestFitness: 400\n",
            "\tParticle  9 :  Fitness: 396.41, bestFitness: 400\n",
            "Best Particle:  Fitness: 391.64, bestFitness: 400\n",
            "\n",
            "Iteration  5\n",
            "\tParticle  0 :  Fitness: 396.01, bestFitness: 400\n",
            "\tParticle  1 :  Fitness: 398.8, bestFitness: 400\n",
            "\tParticle  2 :  Fitness: 400, bestFitness: 400\n",
            "\tParticle  3 :  Fitness: 392.44, bestFitness: 400\n",
            "\tParticle  4 :  Fitness: 400, bestFitness: 400\n",
            "\tParticle  5 :  Fitness: 400, bestFitness: 400\n",
            "\tParticle  6 :  Fitness: 396.81, bestFitness: 400\n",
            "\tParticle  7 :  Fitness: 400, bestFitness: 400\n",
            "\tParticle  8 :  Fitness: 400, bestFitness: 400\n",
            "\tParticle  9 :  Fitness: 400, bestFitness: 400\n",
            "Best Particle:  Fitness: 400, bestFitness: 400\n",
            "\n",
            "Iteration  6\n",
            "\tParticle  0 :  Fitness: 400, bestFitness: 400\n",
            "\tParticle  1 :  Fitness: 400, bestFitness: 400\n",
            "\tParticle  2 :  Fitness: 399.6, bestFitness: 400\n",
            "\tParticle  3 :  Fitness: 400, bestFitness: 400\n",
            "\tParticle  4 :  Fitness: 396.81, bestFitness: 400\n",
            "\tParticle  5 :  Fitness: 399.6, bestFitness: 400\n",
            "\tParticle  6 :  Fitness: 400, bestFitness: 400\n",
            "\tParticle  7 :  Fitness: 396.81, bestFitness: 400\n",
            "\tParticle  8 :  Fitness: 399.6, bestFitness: 400\n",
            "\tParticle  9 :  Fitness: 399.6, bestFitness: 400\n",
            "Best Particle:  Fitness: 399.6, bestFitness: 400\n",
            "\n",
            "Iteration  7\n",
            "\tParticle  0 :  Fitness: 399.6, bestFitness: 400\n",
            "\tParticle  1 :  Fitness: 400.0, bestFitness: 400\n",
            "\tParticle  2 :  Fitness: 400, bestFitness: 400\n",
            "\tParticle  3 :  Fitness: 399.2, bestFitness: 400\n",
            "\tParticle  4 :  Fitness: 400, bestFitness: 400\n",
            "\tParticle  5 :  Fitness: 400, bestFitness: 400\n",
            "\tParticle  6 :  Fitness: 399.2, bestFitness: 400\n",
            "\tParticle  7 :  Fitness: 400, bestFitness: 400\n",
            "\tParticle  8 :  Fitness: 400, bestFitness: 400\n",
            "\tParticle  9 :  Fitness: 399.6, bestFitness: 400\n",
            "Best Particle:  Fitness: 400, bestFitness: 400\n",
            "\n",
            "Iteration  8\n",
            "\tParticle  0 :  Fitness: 400, bestFitness: 400\n",
            "\tParticle  1 :  Fitness: 400, bestFitness: 400\n",
            "\tParticle  2 :  Fitness: 400.0, bestFitness: 400\n",
            "\tParticle  3 :  Fitness: 400, bestFitness: 400\n",
            "\tParticle  4 :  Fitness: 399.2, bestFitness: 400\n",
            "\tParticle  5 :  Fitness: 400.0, bestFitness: 400\n",
            "\tParticle  6 :  Fitness: 400.0, bestFitness: 400\n",
            "\tParticle  7 :  Fitness: 399.6, bestFitness: 400\n",
            "\tParticle  8 :  Fitness: 400.0, bestFitness: 400\n",
            "\tParticle  9 :  Fitness: 400, bestFitness: 400\n",
            "Best Particle:  Fitness: 400.0, bestFitness: 400\n",
            "\n",
            "Iteration  9\n",
            "\tParticle  0 :  Fitness: 400.0, bestFitness: 400\n",
            "\tParticle  1 :  Fitness: 400.0, bestFitness: 400\n",
            "\tParticle  2 :  Fitness: 400, bestFitness: 400\n",
            "\tParticle  3 :  Fitness: 400.0, bestFitness: 400\n",
            "\tParticle  4 :  Fitness: 400, bestFitness: 400\n",
            "\tParticle  5 :  Fitness: 400, bestFitness: 400\n",
            "\tParticle  6 :  Fitness: 400.0, bestFitness: 400\n",
            "\tParticle  7 :  Fitness: 400, bestFitness: 400\n",
            "\tParticle  8 :  Fitness: 400, bestFitness: 400\n",
            "\tParticle  9 :  Fitness: 400.0, bestFitness: 400\n",
            "Best Particle:  Fitness: 400, bestFitness: 400\n",
            "\n"
          ]
        }
      ]
    },
    {
      "cell_type": "code",
      "source": [
        ""
      ],
      "metadata": {
        "id": "nP5qVmXCBB10"
      },
      "execution_count": null,
      "outputs": []
    }
  ]
}