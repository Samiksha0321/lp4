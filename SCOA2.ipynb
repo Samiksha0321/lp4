{
  "nbformat": 4,
  "nbformat_minor": 0,
  "metadata": {
    "colab": {
      "name": "SCOA2.ipynb",
      "provenance": []
    },
    "kernelspec": {
      "name": "python3",
      "display_name": "Python 3"
    },
    "language_info": {
      "name": "python"
    }
  },
  "cells": [
    {
      "cell_type": "code",
      "execution_count": 1,
      "metadata": {
        "id": "EmedrPz2-tdy"
      },
      "outputs": [],
      "source": [
        "import random"
      ]
    },
    {
      "cell_type": "code",
      "source": [
        "def decimalToBinary(n):\n",
        "    return \"{0:b}\".format(int(n)).rjust(CHROMOSOME_LENGTH,\"0\")\n",
        "def binaryToDecimal(n):\n",
        "    return int(n,2)"
      ],
      "metadata": {
        "id": "Z1LYkfS1_x3d"
      },
      "execution_count": 2,
      "outputs": []
    },
    {
      "cell_type": "code",
      "source": [
        "def toss(p):\n",
        "  return random.randint(0, 100) <= p"
      ],
      "metadata": {
        "id": "ee3X5JEZ_9PA"
      },
      "execution_count": 3,
      "outputs": []
    },
    {
      "cell_type": "code",
      "source": [
        "def get_best_individual(individuals):\n",
        "  best_individual = individuals[0]\n",
        "  for i in individuals:\n",
        "    if i.get_fitness() > best_individual.get_fitness():\n",
        "      best_individual = i\n",
        "  return best_individual"
      ],
      "metadata": {
        "id": "8tUKIF3a__q0"
      },
      "execution_count": 4,
      "outputs": []
    },
    {
      "cell_type": "code",
      "source": [
        ""
      ],
      "metadata": {
        "id": "l7Hj5_mjACMw"
      },
      "execution_count": null,
      "outputs": []
    },
    {
      "cell_type": "code",
      "source": [
        "class Individual:\n",
        "  def __init__(self, chromosome):\n",
        "    self.chromosome = chromosome\n",
        "    self.value = binaryToDecimal(chromosome)\n",
        "    self.length = len(chromosome)\n",
        "\n",
        "  def get_fitness(self):\n",
        "    return -(A - self.value)*(A - self.value)\n",
        "  \n",
        "  def mutate(self):\n",
        "    new_chromosome = self.chromosome\n",
        "    for i in range(self.length-2):\n",
        "      if toss(MUTATION_PROBABILITY):\n",
        "        bit = \"0\"\n",
        "        if new_chromosome[i] == \"0\":\n",
        "          bit = \"1\"\n",
        "        new_chromosome = new_chromosome[:i] + bit + new_chromosome[i+1:]\n",
        "    if toss(MUTATION_PROBABILITY):\n",
        "      bit = \"0\"\n",
        "      if new_chromosome[i] == \"0\":\n",
        "        bit = \"1\"\n",
        "      new_chromosome = new_chromosome[:-1] + bit\n",
        "    self.chromosome = new_chromosome\n",
        "    self.value = binaryToDecimal(self.chromosome)\n",
        "\n",
        "  def __str__(self):\n",
        "    ret = \"\"\"\n",
        "{\n",
        "    \"chromosome\":\"\"\" + self.chromosome +\"\"\"\n",
        "    \"fitness\":\"\"\" + str(self.get_fitness()) +\"\"\"\n",
        "}\"\"\"\n",
        "    return ret\n",
        "  \n",
        "  def __repr__(self):\n",
        "    return self.chromosome\n",
        "\n",
        "  @classmethod\n",
        "  def gen_chromosome(cls, chromosome_length):\n",
        "    chromosome = \"\".join([random.choice([\"0\", \"1\"]) for _ in range(chromosome_length)])\n",
        "    return chromosome\n",
        "\n",
        "  @classmethod\n",
        "  def crossover(cls, individual1, individual2):\n",
        "    k = random.randint(1, individual1.length - 2)\n",
        "    new_chromosome1 = individual1.chromosome[:k] + individual2.chromosome[k:]\n",
        "    new_chromosome2 = individual2.chromosome[:k] + individual1.chromosome[k:]\n",
        "    return Individual(new_chromosome1), Individual(new_chromosome2)\n"
      ],
      "metadata": {
        "id": "qr29vTFRvQRs"
      },
      "execution_count": 5,
      "outputs": []
    },
    {
      "cell_type": "code",
      "source": [
        ""
      ],
      "metadata": {
        "id": "4_B0VBupAFlC"
      },
      "execution_count": null,
      "outputs": []
    },
    {
      "cell_type": "code",
      "source": [
        "POPULATION_SIZE = 10\n",
        "\n",
        "CHROMOSOME_LENGTH = 8\n",
        "\n",
        "TOURNAMENT_SIZE = 2\n",
        "\n",
        "CROSSOVER_PROBABILITY = 70\n",
        "MUTATION_PROBABILITY = 10\n",
        "\n",
        "NUM_GENERATIONS = 1000"
      ],
      "metadata": {
        "id": "uMplslZrsxO2"
      },
      "execution_count": 6,
      "outputs": []
    },
    {
      "cell_type": "code",
      "source": [
        "A = 100 # f(x) = (x-a)^2"
      ],
      "metadata": {
        "id": "10KyeNhHAITN"
      },
      "execution_count": 7,
      "outputs": []
    },
    {
      "cell_type": "code",
      "source": [
        "population = [Individual(Individual.gen_chromosome(CHROMOSOME_LENGTH)) for _ in range(POPULATION_SIZE)]\n",
        "overall_best_individual = population[0]"
      ],
      "metadata": {
        "id": "mjjWLf1PAU1Z"
      },
      "execution_count": 8,
      "outputs": []
    },
    {
      "cell_type": "code",
      "source": [
        ""
      ],
      "metadata": {
        "id": "spcMPCdnAXwS"
      },
      "execution_count": null,
      "outputs": []
    },
    {
      "cell_type": "code",
      "source": [
        "for _ in range(NUM_GENERATIONS):\n",
        "  sampled_individuals = []\n",
        "  for _ in range(0, POPULATION_SIZE):\n",
        "    tournament_individuals = random.sample(population, TOURNAMENT_SIZE)\n",
        "    best_individual = get_best_individual(tournament_individuals)\n",
        "    sampled_individuals.append(best_individual)\n",
        "  for i in range(0, POPULATION_SIZE, 2):\n",
        "    if toss(CROSSOVER_PROBABILITY):\n",
        "      individual1, individual2 = sampled_individuals[i], sampled_individuals[i+1]\n",
        "      child1, child2 = Individual.crossover(individual1, individual2)\n",
        "      sampled_individuals[i] = child1\n",
        "      sampled_individuals[i+1] = child2\n",
        "  population = sampled_individuals\n",
        "  for i in range(POPULATION_SIZE):\n",
        "    population[i].mutate()\n",
        "  if get_best_individual(population).get_fitness() > overall_best_individual.get_fitness():\n",
        "    overall_best_individual = get_best_individual(population)"
      ],
      "metadata": {
        "id": "ZpV8ayLTA7tj"
      },
      "execution_count": 9,
      "outputs": []
    },
    {
      "cell_type": "code",
      "source": [
        ""
      ],
      "metadata": {
        "id": "FFm16br7Aa4a"
      },
      "execution_count": null,
      "outputs": []
    },
    {
      "cell_type": "code",
      "source": [
        "cur_best_individual = get_best_individual(population)\n",
        "print(\"Current best individual:\", cur_best_individual)\n",
        "# print(population)\n",
        "print(\"Overall best individual:\", overall_best_individual)"
      ],
      "metadata": {
        "id": "kxxTQtAeqxO_",
        "colab": {
          "base_uri": "https://localhost:8080/"
        },
        "outputId": "e659345a-c58d-4b02-d786-4a08567ef6d1"
      },
      "execution_count": 10,
      "outputs": [
        {
          "output_type": "stream",
          "name": "stdout",
          "text": [
            "Current best individual: \n",
            "{\n",
            "    \"chromosome\":01100011\n",
            "    \"fitness\":-1\n",
            "}\n",
            "Overall best individual: \n",
            "{\n",
            "    \"chromosome\":01100011\n",
            "    \"fitness\":-1\n",
            "}\n"
          ]
        }
      ]
    },
    {
      "cell_type": "code",
      "source": [
        ""
      ],
      "metadata": {
        "id": "982F8F4kAd9Z"
      },
      "execution_count": null,
      "outputs": []
    }
  ]
}